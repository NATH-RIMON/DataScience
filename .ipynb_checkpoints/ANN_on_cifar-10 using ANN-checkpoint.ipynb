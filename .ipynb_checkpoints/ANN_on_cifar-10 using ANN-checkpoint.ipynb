{
 "cells": [
  {
   "cell_type": "markdown",
   "id": "6adaf797",
   "metadata": {},
   "source": [
    "# MACHINE LEARNING ASSIGNMENT"
   ]
  },
  {
   "cell_type": "code",
   "execution_count": 1,
   "id": "42ec2e15",
   "metadata": {},
   "outputs": [],
   "source": [
    "#importing required libraries..\n",
    "import tensorflow as tf\n",
    "import numpy as np\n",
    "import matplotlib.pyplot as plt"
   ]
  },
  {
   "cell_type": "code",
   "execution_count": 2,
   "id": "b738822f",
   "metadata": {},
   "outputs": [
    {
     "name": "stdout",
     "output_type": "stream",
     "text": [
      "Training dataset shape: (50000, 32, 32, 3)\n",
      "Training labels shape: (50000, 1)\n",
      "Test dataset shape: (10000, 32, 32, 3)\n",
      "Test labels shape: (10000, 1)\n"
     ]
    }
   ],
   "source": [
    "#Load and read about data\n",
    "cifar=tf.keras.datasets.cifar10\n",
    "(training_images,training_labels),(testing_images,testing_labels)=cifar.load_data()\n",
    "print('Training dataset shape:', training_images.shape)\n",
    "print('Training labels shape:', training_labels.shape)\n",
    "print('Test dataset shape:', testing_images.shape)\n",
    "print('Test labels shape:', testing_labels.shape)"
   ]
  },
  {
   "cell_type": "markdown",
   "id": "335f079d",
   "metadata": {},
   "source": [
    "### Divide image pixel by 255 so pixel comes in range 0 to 1"
   ]
  },
  {
   "cell_type": "code",
   "execution_count": 3,
   "id": "871f5ac2",
   "metadata": {},
   "outputs": [],
   "source": [
    "training_images=training_images/255.0\n",
    "testing_images=testing_images/255.0"
   ]
  },
  {
   "cell_type": "markdown",
   "id": "82624fc7",
   "metadata": {},
   "source": [
    "### Define the model"
   ]
  },
  {
   "cell_type": "code",
   "execution_count": 4,
   "id": "2d819e68",
   "metadata": {},
   "outputs": [],
   "source": [
    "model=tf.keras.Sequential([\n",
    "    tf.keras.layers.Flatten(input_shape=(32,32,3)),\n",
    "    tf.keras.layers.Dense(64,activation='relu'),\n",
    "    tf.keras.layers.Dense(64,activation='relu'),\n",
    "    tf.keras.layers.Dense(32,activation='relu'),\n",
    "    tf.keras.layers.Dense(32,activation='relu'),\n",
    "    tf.keras.layers.Dense(15,activation='softmax')\n",
    "])"
   ]
  },
  {
   "cell_type": "markdown",
   "id": "a6b634fd",
   "metadata": {},
   "source": [
    "### Compiling the model"
   ]
  },
  {
   "cell_type": "code",
   "execution_count": 5,
   "id": "453f2537",
   "metadata": {},
   "outputs": [],
   "source": [
    "model.compile(optimizer='SGD',loss='sparse_categorical_crossentropy',metrics=['accuracy'])"
   ]
  },
  {
   "cell_type": "markdown",
   "id": "bed8244e",
   "metadata": {},
   "source": [
    "### Training data to the model"
   ]
  },
  {
   "cell_type": "code",
   "execution_count": null,
   "id": "91f0a374",
   "metadata": {},
   "outputs": [
    {
     "name": "stdout",
     "output_type": "stream",
     "text": [
      "Epoch 1/10\n",
      "16667/16667 [==============================] - 30s 2ms/step - loss: 2.0317 - accuracy: 0.2224\n",
      "Epoch 2/10\n",
      "16667/16667 [==============================] - 29s 2ms/step - loss: 1.9490 - accuracy: 0.2564\n",
      "Epoch 3/10\n",
      "14109/16667 [========================>.....] - ETA: 4s - loss: 1.9364 - accuracy: 0.2639"
     ]
    }
   ],
   "source": [
    "model.fit(training_images,training_labels,epochs=10,batch_size=3)"
   ]
  },
  {
   "cell_type": "markdown",
   "id": "93876dce",
   "metadata": {},
   "source": [
    "### Evaluating the model for testing data"
   ]
  },
  {
   "cell_type": "code",
   "execution_count": 7,
   "id": "fed18e89",
   "metadata": {},
   "outputs": [
    {
     "name": "stdout",
     "output_type": "stream",
     "text": [
      "313/313 [==============================] - 1s 2ms/step - loss: 1.5084 - accuracy: 0.4597\n"
     ]
    }
   ],
   "source": [
    "test_loss,test_acc=model.evaluate(testing_images,testing_labels)"
   ]
  },
  {
   "cell_type": "markdown",
   "id": "f5f8cc2c",
   "metadata": {},
   "source": [
    "### Testing the model"
   ]
  },
  {
   "cell_type": "code",
   "execution_count": 8,
   "id": "dbc7fe65",
   "metadata": {},
   "outputs": [
    {
     "name": "stdout",
     "output_type": "stream",
     "text": [
      "Test accuracy: 0.45969998836517334\n",
      "Predicted data for second index: truck\n",
      "Actual data for the index: ship\n"
     ]
    }
   ],
   "source": [
    "print(\"Test accuracy:\",test_acc)\n",
    " #predicting the data...\n",
    "predictions=model.predict(testing_images)\n",
    " #printing data predicted for 2nd index..\n",
    "classes = ['plane', 'car', 'bird', 'cat', 'deer', 'dog', 'frog', 'horse', 'ship', 'truck'] #classes of the data\n",
    "print(\"Predicted data for second index:\",classes[np.argmax(predictions[2])])\n",
    " #actual data at index 3...\n",
    "print(\"Actual data for the index:\",classes[testing_labels[2][0]])"
   ]
  },
  {
   "cell_type": "code",
   "execution_count": null,
   "id": "520e4565",
   "metadata": {},
   "outputs": [],
   "source": []
  }
 ],
 "metadata": {
  "kernelspec": {
   "display_name": "Python 3 (ipykernel)",
   "language": "python",
   "name": "python3"
  },
  "language_info": {
   "codemirror_mode": {
    "name": "ipython",
    "version": 3
   },
   "file_extension": ".py",
   "mimetype": "text/x-python",
   "name": "python",
   "nbconvert_exporter": "python",
   "pygments_lexer": "ipython3",
   "version": "3.9.7"
  }
 },
 "nbformat": 4,
 "nbformat_minor": 5
}
