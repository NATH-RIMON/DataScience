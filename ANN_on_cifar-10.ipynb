{
 "cells": [
  {
   "cell_type": "code",
   "execution_count": 47,
   "id": "42ec2e15",
   "metadata": {},
   "outputs": [],
   "source": [
    "#importing required libraries..\n",
    "import tensorflow as tf\n",
    "import numpy as np\n",
    "import matplotlib.pyplot as plt\n",
    "from tensorflow.keras.utils import to_categorical"
   ]
  },
  {
   "cell_type": "code",
   "execution_count": 48,
   "id": "b738822f",
   "metadata": {},
   "outputs": [],
   "source": [
    "#loading the dataset...\n",
    "cifar=tf.keras.datasets.cifar10\n",
    "(training_images,training_labels),(testing_images,testing_labels)=cifar.load_data()"
   ]
  },
  {
   "cell_type": "code",
   "execution_count": 49,
   "id": "093b5c34",
   "metadata": {},
   "outputs": [],
   "source": [
    "#assigning names of labels from 0 to 9 to array 'names'...\n",
    "names=['airplane','automobile','bird','cat','deer','dog','frog','horse','ship','truck']"
   ]
  },
  {
   "cell_type": "code",
   "execution_count": 50,
   "id": "860a4055",
   "metadata": {},
   "outputs": [
    {
     "data": {
      "text/plain": [
       "(50000, 32, 32, 3)"
      ]
     },
     "execution_count": 50,
     "metadata": {},
     "output_type": "execute_result"
    }
   ],
   "source": [
    "#checking the shape of images ...\n",
    "training_images.shape"
   ]
  },
  {
   "cell_type": "code",
   "execution_count": 51,
   "id": "473b46a6",
   "metadata": {},
   "outputs": [
    {
     "data": {
      "text/plain": [
       "(50000, 1)"
      ]
     },
     "execution_count": 51,
     "metadata": {},
     "output_type": "execute_result"
    }
   ],
   "source": [
    "#checking shape of labels...\n",
    "training_labels.shape"
   ]
  },
  {
   "cell_type": "code",
   "execution_count": 65,
   "id": "871f5ac2",
   "metadata": {},
   "outputs": [],
   "source": [
    "#dividing image pixel by 255 so that pixel comes in range 0 to 1...\n",
    "training_images=training_images/255.0\n",
    "testing_images=testing_images/255.0\n",
    "\n",
    "\n"
   ]
  },
  {
   "cell_type": "code",
   "execution_count": 87,
   "id": "2d819e68",
   "metadata": {},
   "outputs": [],
   "source": [
    "#defining the model...\n",
    "model=tf.keras.Sequential([\n",
    "     tf.keras.layers.Flatten(input_shape=(32,32,3)),\n",
    "    tf.keras.layers.Dense(1576,activation='relu'),\n",
    "    tf.keras.layers.Dense(1576,activation='relu'),\n",
    "    tf.keras.layers.Dense(576,activation='relu'),\n",
    "   \n",
    "    tf.keras.layers.Dense(100,activation='softmax')\n",
    "])\n"
   ]
  },
  {
   "cell_type": "code",
   "execution_count": 88,
   "id": "453f2537",
   "metadata": {},
   "outputs": [],
   "source": [
    "#compiling the model...\n",
    "model.compile(optimizer='adam',loss='sparse_categorical_crossentropy',metrics=['accuracy'])"
   ]
  },
  {
   "cell_type": "code",
   "execution_count": 89,
   "id": "91f0a374",
   "metadata": {},
   "outputs": [
    {
     "name": "stdout",
     "output_type": "stream",
     "text": [
      "Epoch 1/10\n",
      "1563/1563 [==============================] - 77s 49ms/step - loss: 2.3342 - accuracy: 0.0995\n",
      "Epoch 2/10\n",
      "1563/1563 [==============================] - 77s 49ms/step - loss: 2.3068 - accuracy: 0.0974\n",
      "Epoch 3/10\n",
      "1563/1563 [==============================] - 78s 50ms/step - loss: 2.3048 - accuracy: 0.1012\n",
      "Epoch 4/10\n",
      "1563/1563 [==============================] - 79s 50ms/step - loss: 2.3038 - accuracy: 0.1003\n",
      "Epoch 5/10\n",
      "1563/1563 [==============================] - 82s 53ms/step - loss: 2.3035 - accuracy: 0.1002\n",
      "Epoch 6/10\n",
      "1563/1563 [==============================] - 81s 52ms/step - loss: 2.3032 - accuracy: 0.0997\n",
      "Epoch 7/10\n",
      "1563/1563 [==============================] - 81s 52ms/step - loss: 2.3033 - accuracy: 0.0986\n",
      "Epoch 8/10\n",
      "1563/1563 [==============================] - 85s 55ms/step - loss: 2.3031 - accuracy: 0.0995\n",
      "Epoch 9/10\n",
      "1563/1563 [==============================] - 82s 53ms/step - loss: 2.3031 - accuracy: 0.0983\n",
      "Epoch 10/10\n",
      "1563/1563 [==============================] - 80s 51ms/step - loss: 2.3031 - accuracy: 0.0997\n"
     ]
    },
    {
     "data": {
      "text/plain": [
       "<keras.callbacks.History at 0x1f99bb7aa30>"
      ]
     },
     "execution_count": 89,
     "metadata": {},
     "output_type": "execute_result"
    }
   ],
   "source": [
    "#training data to the model...\n",
    "model.fit(training_images,training_labels,epochs=10)"
   ]
  },
  {
   "cell_type": "code",
   "execution_count": 10,
   "id": "fed18e89",
   "metadata": {},
   "outputs": [
    {
     "name": "stdout",
     "output_type": "stream",
     "text": [
      "313/313 [==============================] - 2s 4ms/step - loss: 1.4661 - accuracy: 0.4861\n"
     ]
    }
   ],
   "source": [
    "#evaluating the model for testing data..\n",
    "test_loss,test_acc=model.evaluate(testing_images,testing_labels)"
   ]
  },
  {
   "cell_type": "code",
   "execution_count": 11,
   "id": "dbc7fe65",
   "metadata": {},
   "outputs": [
    {
     "name": "stdout",
     "output_type": "stream",
     "text": [
      "Test accuracy: 0.4860999882221222\n"
     ]
    }
   ],
   "source": [
    "print(\"Test accuracy:\",test_acc)"
   ]
  },
  {
   "cell_type": "code",
   "execution_count": 12,
   "id": "b6ef4ad6",
   "metadata": {},
   "outputs": [],
   "source": [
    "#predicting the data...\n",
    "predictions=model.predict(testing_images)"
   ]
  },
  {
   "cell_type": "code",
   "execution_count": 13,
   "id": "ef16bd20",
   "metadata": {},
   "outputs": [
    {
     "name": "stdout",
     "output_type": "stream",
     "text": [
      "ship\n"
     ]
    }
   ],
   "source": [
    "#printing data predicted for 2nd index..\n",
    "print(names[np.argmax(predictions[2])])"
   ]
  },
  {
   "cell_type": "code",
   "execution_count": 14,
   "id": "aeeaa7a1",
   "metadata": {},
   "outputs": [
    {
     "name": "stdout",
     "output_type": "stream",
     "text": [
      "ship\n"
     ]
    }
   ],
   "source": [
    "#actual data at index 2...\n",
    "print(names[testing_labels[2][0]])"
   ]
  },
  {
   "cell_type": "code",
   "execution_count": null,
   "id": "b256c356",
   "metadata": {},
   "outputs": [],
   "source": []
  }
 ],
 "metadata": {
  "kernelspec": {
   "display_name": "Python 3 (ipykernel)",
   "language": "python",
   "name": "python3"
  },
  "language_info": {
   "codemirror_mode": {
    "name": "ipython",
    "version": 3
   },
   "file_extension": ".py",
   "mimetype": "text/x-python",
   "name": "python",
   "nbconvert_exporter": "python",
   "pygments_lexer": "ipython3",
   "version": "3.9.7"
  }
 },
 "nbformat": 4,
 "nbformat_minor": 5
}
